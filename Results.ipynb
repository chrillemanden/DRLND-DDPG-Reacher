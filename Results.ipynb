{
 "cells": [
  {
   "cell_type": "markdown",
   "metadata": {},
   "source": [
    "# Imports"
   ]
  },
  {
   "cell_type": "code",
   "execution_count": 1,
   "metadata": {},
   "outputs": [],
   "source": [
    "from unityagents import UnityEnvironment\n",
    "import numpy as np\n",
    "from collections import deque\n",
    "import matplotlib.pyplot as plt\n",
    "\n",
    "plt.ion() # Turn on interactive mode on plots\n",
    "\n",
    "# PyTorch imports\n",
    "import torch"
   ]
  },
  {
   "cell_type": "markdown",
   "metadata": {},
   "source": [
    "# Starting the environment\n",
    "\n",
    "Next, we will start the environment!  **_Before running the code cell below_**, change the `file_name` parameter to match the location of the Unity environment that you downloaded.\n",
    "\n",
    "- **Mac**: `\"path/to/Reacher.app\"`\n",
    "- **Windows** (x86): `\"path/to/Reacher_Windows_x86/Reacher.exe\"`\n",
    "- **Windows** (x86_64): `\"path/to/Reacher_Windows_x86_64/Reacher.exe\"`\n",
    "- **Linux** (x86): `\"path/to/Reacher_Linux/Reacher.x86\"`\n",
    "- **Linux** (x86_64): `\"path/to/Reacher_Linux/Reacher.x86_64\"`\n",
    "- **Linux** (x86, headless): `\"path/to/Reacher_Linux_NoVis/Reacher.x86\"`\n",
    "- **Linux** (x86_64, headless): `\"path/to/Reacher_Linux_NoVis/Reacher.x86_64\"`\n",
    "\n",
    "For instance, if you are using a Mac, then you downloaded `Reacher.app`.  If this file is in the same folder as the notebook, then the line below should appear as follows:\n",
    "```\n",
    "env = UnityEnvironment(file_name=\"Reacher.app\")\n",
    "```"
   ]
  },
  {
   "cell_type": "code",
   "execution_count": 2,
   "metadata": {},
   "outputs": [
    {
     "name": "stderr",
     "output_type": "stream",
     "text": [
      "INFO:unityagents:\n",
      "'Academy' started successfully!\n",
      "Unity Academy name: Academy\n",
      "        Number of Brains: 1\n",
      "        Number of External Brains : 1\n",
      "        Lesson number : 0\n",
      "        Reset Parameters :\n",
      "\t\tgoal_speed -> 1.0\n",
      "\t\tgoal_size -> 5.0\n",
      "Unity brain name: ReacherBrain\n",
      "        Number of Visual Observations (per agent): 0\n",
      "        Vector Observation space type: continuous\n",
      "        Vector Observation space size (per agent): 33\n",
      "        Number of stacked Vector Observation: 1\n",
      "        Vector Action space type: continuous\n",
      "        Vector Action space size (per agent): 4\n",
      "        Vector Action descriptions: , , , \n"
     ]
    }
   ],
   "source": [
    "env = UnityEnvironment(file_name='C:/Users/chris/git/deep-reinforcement-learning/p2_continuous-control/Reacher_Windows_x86_64/Reacher_Windows_x86_64/Reacher.exe')"
   ]
  },
  {
   "cell_type": "markdown",
   "metadata": {},
   "source": [
    "# Environment Setup"
   ]
  },
  {
   "cell_type": "code",
   "execution_count": 3,
   "metadata": {},
   "outputs": [],
   "source": [
    "# get the default brain\n",
    "brain_name = env.brain_names[0]\n",
    "brain = env.brains[brain_name]\n",
    "\n",
    "# reset the environment\n",
    "env_info = env.reset(train_mode=False)[brain_name]\n",
    "\n",
    "# number of agents\n",
    "num_agents = len(env_info.agents)\n",
    "#print('Number of agents:', num_agents)\n",
    "\n",
    "# size of each action\n",
    "action_size = brain.vector_action_space_size\n",
    "#print('Size of each action:', action_size)\n",
    "\n",
    "# examine the state space \n",
    "states = env_info.vector_observations\n",
    "state_size = states.shape[1]\n",
    "#print('There are {} agents. Each observes a state with length: {}'.format(states.shape[0], state_size))\n",
    "#print('The state for the first agent looks like:', states[0])"
   ]
  },
  {
   "cell_type": "markdown",
   "metadata": {},
   "source": [
    "# Agent Setup"
   ]
  },
  {
   "cell_type": "code",
   "execution_count": 4,
   "metadata": {},
   "outputs": [],
   "source": [
    "# Auto load changes in the imported files\n",
    "%load_ext autoreload\n",
    "%autoreload 2"
   ]
  },
  {
   "cell_type": "code",
   "execution_count": 8,
   "metadata": {},
   "outputs": [],
   "source": [
    "from src.agent import Agent"
   ]
  },
  {
   "cell_type": "markdown",
   "metadata": {},
   "source": [
    "### Define an agent"
   ]
  },
  {
   "cell_type": "code",
   "execution_count": 9,
   "metadata": {},
   "outputs": [],
   "source": [
    "actor_hidden_layers = [50, 50]\n",
    "critic_hidden_layers = [50, 50]\n",
    "agent1 = Agent(state_size, action_size, num_agents, 0, actor_hidden_layers, critic_hidden_layers, use_batch_norm=True, use_noise=True)"
   ]
  },
  {
   "cell_type": "markdown",
   "metadata": {},
   "source": [
    "# Train the agent"
   ]
  },
  {
   "cell_type": "code",
   "execution_count": 10,
   "metadata": {},
   "outputs": [],
   "source": [
    "from src.ddpg import ddpg_show, ddpg_train"
   ]
  },
  {
   "cell_type": "code",
   "execution_count": 8,
   "metadata": {},
   "outputs": [
    {
     "name": "stdout",
     "output_type": "stream",
     "text": [
      "Episode 2\tAverage Score: 0.24\n",
      "Episode 4\tAverage Score: 0.25\n",
      "Episode 6\tAverage Score: 0.24\n",
      "Episode 8\tAverage Score: 0.24\n",
      "Episode 10\tAverage Score: 0.32\n",
      "Episode 12\tAverage Score: 0.37\n",
      "Episode 14\tAverage Score: 0.40\n",
      "Episode 16\tAverage Score: 0.38\n",
      "Episode 18\tAverage Score: 0.40\n",
      "Episode 20\tAverage Score: 0.47\n",
      "Episode 22\tAverage Score: 0.49\n",
      "Episode 24\tAverage Score: 0.47\n",
      "Episode 26\tAverage Score: 0.47\n",
      "Episode 28\tAverage Score: 0.44\n",
      "Episode 30\tAverage Score: 0.42\n",
      "Episode 32\tAverage Score: 0.40\n",
      "Episode 34\tAverage Score: 0.39\n",
      "Episode 36\tAverage Score: 0.37\n",
      "Episode 38\tAverage Score: 0.35\n",
      "Episode 40\tAverage Score: 0.34\n",
      "Episode 42\tAverage Score: 0.34\n",
      "Episode 44\tAverage Score: 0.33\n",
      "Episode 46\tAverage Score: 0.34\n",
      "Episode 48\tAverage Score: 0.34\n",
      "Episode 50\tAverage Score: 0.32\n",
      "Episode 52\tAverage Score: 0.31\n",
      "Episode 54\tAverage Score: 0.30\n",
      "Episode 56\tAverage Score: 0.34\n",
      "Episode 58\tAverage Score: 0.36\n",
      "Episode 60\tAverage Score: 0.37\n",
      "Episode 62\tAverage Score: 0.43\n",
      "Episode 64\tAverage Score: 0.51\n",
      "Episode 66\tAverage Score: 0.58\n",
      "Episode 68\tAverage Score: 0.73\n",
      "Episode 70\tAverage Score: 0.88\n",
      "Episode 72\tAverage Score: 1.12\n",
      "Episode 74\tAverage Score: 1.38\n",
      "Episode 76\tAverage Score: 1.62\n",
      "Episode 78\tAverage Score: 1.90\n",
      "Episode 80\tAverage Score: 2.17\n",
      "Episode 82\tAverage Score: 2.51\n",
      "Episode 84\tAverage Score: 2.86\n",
      "Episode 86\tAverage Score: 3.29\n",
      "Episode 88\tAverage Score: 3.69\n",
      "Episode 90\tAverage Score: 4.25\n",
      "Episode 92\tAverage Score: 4.91\n",
      "Episode 94\tAverage Score: 5.69\n",
      "Episode 96\tAverage Score: 6.56\n",
      "Episode 98\tAverage Score: 7.56\n",
      "Episode 100\tAverage Score: 8.41\n",
      "Episode 102\tAverage Score: 9.44\n",
      "Episode 104\tAverage Score: 10.51\n",
      "Episode 106\tAverage Score: 11.68\n",
      "Episode 108\tAverage Score: 12.79\n",
      "Episode 110\tAverage Score: 14.09\n",
      "Episode 112\tAverage Score: 15.38\n",
      "Episode 114\tAverage Score: 16.68\n",
      "Episode 116\tAverage Score: 18.10\n",
      "Episode 118\tAverage Score: 19.50\n",
      "Episode 120\tAverage Score: 20.94\n",
      "Episode 122\tAverage Score: 22.32\n",
      "Episode 124\tAverage Score: 23.71\n",
      "Episode 126\tAverage Score: 24.96\n",
      "Episode 128\tAverage Score: 26.24\n",
      "Episode 130\tAverage Score: 27.41\n",
      "Episode 132\tAverage Score: 28.50\n",
      "Episode 134\tAverage Score: 29.41\n",
      "Episode 136\tAverage Score: 30.14\n",
      "Episode 138\tAverage Score: 30.82\n",
      "Episode 140\tAverage Score: 31.62\n",
      "Episode 142\tAverage Score: 32.20\n",
      "Episode 144\tAverage Score: 32.74\n",
      "Episode 146\tAverage Score: 33.16\n",
      "Episode 148\tAverage Score: 33.59\n",
      "Episode 150\tAverage Score: 33.88\n",
      "Episode 152\tAverage Score: 34.07\n",
      "Episode 154\tAverage Score: 34.18\n",
      "Episode 156\tAverage Score: 34.15\n",
      "Episode 158\tAverage Score: 34.18\n",
      "Episode 160\tAverage Score: 34.15\n",
      "Episode 162\tAverage Score: 34.17\n",
      "Episode 164\tAverage Score: 34.15\n",
      "Episode 166\tAverage Score: 34.10\n",
      "Episode 168\tAverage Score: 34.03\n",
      "Episode 170\tAverage Score: 33.93\n",
      "Episode 172\tAverage Score: 33.87\n",
      "Episode 174\tAverage Score: 33.87\n",
      "Episode 176\tAverage Score: 33.91\n",
      "Episode 178\tAverage Score: 33.82\n",
      "Episode 180\tAverage Score: 33.79\n",
      "Episode 182\tAverage Score: 33.75\n",
      "Episode 184\tAverage Score: 33.74\n",
      "\n",
      "Environment solved in 85 episodes!\tAverage Score: 30.07\n"
     ]
    }
   ],
   "source": [
    "scores1 = ddpg_train(agent1, env, brain_name, num_agents, actor_model_pth='actor_model1.pth', critic_model_pth='critic_model1.pth')"
   ]
  },
  {
   "cell_type": "code",
   "execution_count": 9,
   "metadata": {},
   "outputs": [
    {
     "data": {
      "image/png": "[encoded data removed]",
      "text/plain": [
       "<Figure size 432x288 with 1 Axes>"
      ]
     },
     "metadata": {
      "needs_background": "light"
     },
     "output_type": "display_data"
    }
   ],
   "source": [
    "# plot the scores\n",
    "Scores_plot1 = plt.figure()\n",
    "ax = Scores_plot1.add_subplot(111)\n",
    "plt.plot(np.arange(len(scores1)), scores1)\n",
    "plt.ylabel('Score')\n",
    "plt.xlabel('Episode #')\n",
    "plt.title('Agent 1')\n",
    "\n",
    "#plt.savefig(\"Scores_plot.png\")\n",
    "plt.show()"
   ]
  },
  {
   "cell_type": "code",
   "execution_count": 10,
   "metadata": {},
   "outputs": [],
   "source": [
    "with open('scores1.txt', 'w') as f:\n",
    "    for item in scores1:\n",
    "        f.write(\"%s\\n\" % item)"
   ]
  },
  {
   "cell_type": "markdown",
   "metadata": {},
   "source": [
    "## Try training agents with diffeerent parameters"
   ]
  },
  {
   "cell_type": "code",
   "execution_count": 11,
   "metadata": {},
   "outputs": [
    {
     "name": "stdout",
     "output_type": "stream",
     "text": [
      "Episode 2\tAverage Score: 0.81\n",
      "Episode 4\tAverage Score: 0.85\n",
      "Episode 6\tAverage Score: 0.82\n",
      "Episode 8\tAverage Score: 0.76\n",
      "Episode 10\tAverage Score: 0.70\n",
      "Episode 12\tAverage Score: 0.60\n",
      "Episode 14\tAverage Score: 0.57\n",
      "Episode 16\tAverage Score: 0.55\n",
      "Episode 18\tAverage Score: 0.56\n",
      "Episode 20\tAverage Score: 0.62\n",
      "Episode 22\tAverage Score: 0.67\n",
      "Episode 24\tAverage Score: 0.73\n",
      "Episode 26\tAverage Score: 0.78\n",
      "Episode 28\tAverage Score: 0.87\n",
      "Episode 30\tAverage Score: 0.91\n",
      "Episode 32\tAverage Score: 0.95\n",
      "Episode 34\tAverage Score: 0.99\n",
      "Episode 36\tAverage Score: 1.04\n",
      "Episode 38\tAverage Score: 1.13\n",
      "Episode 40\tAverage Score: 1.22\n",
      "Episode 42\tAverage Score: 1.33\n",
      "Episode 44\tAverage Score: 1.43\n",
      "Episode 46\tAverage Score: 1.54\n",
      "Episode 48\tAverage Score: 1.71\n",
      "Episode 50\tAverage Score: 1.97\n",
      "Episode 52\tAverage Score: 2.19\n",
      "Episode 54\tAverage Score: 2.43\n",
      "Episode 56\tAverage Score: 2.65\n",
      "Episode 58\tAverage Score: 2.86\n",
      "Episode 60\tAverage Score: 3.02\n",
      "Episode 62\tAverage Score: 3.22\n",
      "Episode 64\tAverage Score: 3.45\n",
      "Episode 66\tAverage Score: 3.70\n",
      "Episode 68\tAverage Score: 3.83\n",
      "Episode 70\tAverage Score: 4.02\n",
      "Episode 72\tAverage Score: 4.19\n",
      "Episode 74\tAverage Score: 4.46\n",
      "Episode 76\tAverage Score: 4.67\n",
      "Episode 78\tAverage Score: 4.89\n",
      "Episode 80\tAverage Score: 5.13\n",
      "Episode 82\tAverage Score: 5.30\n",
      "Episode 84\tAverage Score: 5.53\n",
      "Episode 86\tAverage Score: 5.79\n",
      "Episode 88\tAverage Score: 5.97\n",
      "Episode 90\tAverage Score: 6.03\n",
      "Episode 92\tAverage Score: 6.12\n",
      "Episode 94\tAverage Score: 6.21\n",
      "Episode 96\tAverage Score: 6.35\n",
      "Episode 98\tAverage Score: 6.48\n",
      "Episode 100\tAverage Score: 6.70\n",
      "Episode 102\tAverage Score: 6.83\n",
      "Episode 104\tAverage Score: 7.01\n",
      "Episode 106\tAverage Score: 7.08\n",
      "Episode 108\tAverage Score: 7.36\n",
      "Episode 110\tAverage Score: 7.52\n",
      "Episode 112\tAverage Score: 7.68\n",
      "Episode 114\tAverage Score: 7.80\n",
      "Episode 116\tAverage Score: 7.94\n",
      "Episode 118\tAverage Score: 7.97\n",
      "Episode 120\tAverage Score: 7.96\n",
      "Episode 122\tAverage Score: 8.05\n",
      "Episode 124\tAverage Score: 8.13\n",
      "Episode 126\tAverage Score: 8.12\n",
      "Episode 128\tAverage Score: 8.19\n",
      "Episode 130\tAverage Score: 8.23\n",
      "Episode 132\tAverage Score: 8.20\n",
      "Episode 134\tAverage Score: 8.28\n",
      "Episode 136\tAverage Score: 8.35\n",
      "Episode 138\tAverage Score: 8.43\n",
      "Episode 140\tAverage Score: 8.45\n",
      "Episode 142\tAverage Score: 8.45\n",
      "Episode 144\tAverage Score: 8.32\n",
      "Episode 146\tAverage Score: 8.27\n",
      "Episode 148\tAverage Score: 8.19\n",
      "Episode 150\tAverage Score: 8.18\n",
      "Episode 152\tAverage Score: 8.09\n",
      "Episode 154\tAverage Score: 8.11\n",
      "Episode 156\tAverage Score: 8.02\n",
      "Episode 158\tAverage Score: 7.98\n",
      "Episode 160\tAverage Score: 7.96\n",
      "Episode 162\tAverage Score: 7.92\n",
      "Episode 164\tAverage Score: 7.98\n",
      "Episode 166\tAverage Score: 7.95\n",
      "Episode 168\tAverage Score: 7.80\n",
      "Episode 170\tAverage Score: 7.82\n",
      "Episode 172\tAverage Score: 7.98\n",
      "Episode 174\tAverage Score: 7.97\n",
      "Episode 176\tAverage Score: 7.94\n",
      "Episode 178\tAverage Score: 7.90\n",
      "Episode 180\tAverage Score: 7.77\n",
      "Episode 182\tAverage Score: 7.73\n",
      "Episode 184\tAverage Score: 7.76\n",
      "Episode 186\tAverage Score: 7.89\n",
      "Episode 188\tAverage Score: 7.93\n",
      "Episode 190\tAverage Score: 7.97\n",
      "Episode 192\tAverage Score: 8.15\n",
      "Episode 194\tAverage Score: 8.00\n",
      "Episode 196\tAverage Score: 8.11\n",
      "Episode 198\tAverage Score: 8.20\n",
      "Episode 200\tAverage Score: 8.28\n",
      "Episode 202\tAverage Score: 8.31\n",
      "Episode 204\tAverage Score: 8.32\n",
      "Episode 206\tAverage Score: 8.37\n",
      "Episode 208\tAverage Score: 8.55\n",
      "Episode 210\tAverage Score: 8.52\n",
      "Episode 212\tAverage Score: 8.56\n",
      "Episode 214\tAverage Score: 8.53\n",
      "Episode 216\tAverage Score: 8.48\n",
      "Episode 218\tAverage Score: 8.46\n",
      "Episode 220\tAverage Score: 8.50\n",
      "Episode 222\tAverage Score: 8.61\n",
      "Episode 224\tAverage Score: 8.65\n",
      "Episode 226\tAverage Score: 8.66\n",
      "Episode 228\tAverage Score: 8.64\n",
      "Episode 230\tAverage Score: 8.66\n",
      "Episode 232\tAverage Score: 8.51\n",
      "Episode 234\tAverage Score: 8.58\n",
      "Episode 236\tAverage Score: 8.63\n",
      "Episode 238\tAverage Score: 8.57\n",
      "Episode 240\tAverage Score: 8.64\n",
      "Episode 242\tAverage Score: 8.75\n",
      "Episode 244\tAverage Score: 8.68\n",
      "Episode 246\tAverage Score: 8.74\n",
      "Episode 248\tAverage Score: 8.63\n",
      "Episode 250\tAverage Score: 8.60\n",
      "Episode 252\tAverage Score: 8.48\n",
      "Episode 254\tAverage Score: 8.39\n",
      "Episode 256\tAverage Score: 8.40\n",
      "Episode 258\tAverage Score: 8.30\n",
      "Episode 260\tAverage Score: 8.37\n",
      "Episode 262\tAverage Score: 8.17\n",
      "Episode 264\tAverage Score: 8.00\n",
      "Episode 266\tAverage Score: 7.85\n",
      "Episode 268\tAverage Score: 7.73\n",
      "Episode 270\tAverage Score: 7.70\n",
      "Episode 272\tAverage Score: 7.77\n",
      "Episode 274\tAverage Score: 7.69\n",
      "Episode 276\tAverage Score: 7.45\n",
      "Episode 278\tAverage Score: 7.46\n",
      "Episode 280\tAverage Score: 7.48\n",
      "Episode 282\tAverage Score: 7.50\n",
      "Episode 284\tAverage Score: 7.52\n",
      "Episode 286\tAverage Score: 7.49\n",
      "Episode 288\tAverage Score: 7.68\n",
      "Episode 290\tAverage Score: 7.85\n",
      "Episode 292\tAverage Score: 7.92\n",
      "Episode 294\tAverage Score: 8.16\n",
      "Episode 296\tAverage Score: 8.24\n",
      "Episode 298\tAverage Score: 8.33\n",
      "Episode 300\tAverage Score: 8.33\n"
     ]
    }
   ],
   "source": [
    "# No batch normalisation\n",
    "actor_hidden_layers = [50, 50]\n",
    "critic_hidden_layers = [50, 50]\n",
    "agent2 = Agent(state_size, action_size, num_agents, 0, actor_hidden_layers, critic_hidden_layers, use_batch_norm=False, use_noise=True)\n",
    "scores2 = ddpg_train(agent2, env, brain_name, num_agents, actor_model_pth='actor_model2.pth', critic_model_pth='critic_model2.pth', n_episodes=300)"
   ]
  },
  {
   "cell_type": "code",
   "execution_count": 12,
   "metadata": {},
   "outputs": [],
   "source": [
    "with open('scores2.txt', 'w') as f:\n",
    "    for item in scores2:\n",
    "        f.write(\"%s\\n\" % item)"
   ]
  },
  {
   "cell_type": "code",
   "execution_count": 14,
   "metadata": {},
   "outputs": [
    {
     "name": "stdout",
     "output_type": "stream",
     "text": [
      "Episode 2\tAverage Score: 0.30\n",
      "Episode 4\tAverage Score: 0.21\n",
      "Episode 6\tAverage Score: 0.19\n",
      "Episode 8\tAverage Score: 0.16\n",
      "Episode 10\tAverage Score: 0.17\n",
      "Episode 12\tAverage Score: 0.18\n",
      "Episode 14\tAverage Score: 0.19\n",
      "Episode 16\tAverage Score: 0.21\n",
      "Episode 18\tAverage Score: 0.21\n",
      "Episode 20\tAverage Score: 0.21\n",
      "Episode 22\tAverage Score: 0.21\n",
      "Episode 24\tAverage Score: 0.22\n",
      "Episode 26\tAverage Score: 0.20\n",
      "Episode 28\tAverage Score: 0.19\n",
      "Episode 30\tAverage Score: 0.19\n",
      "Episode 32\tAverage Score: 0.19\n",
      "Episode 34\tAverage Score: 0.19\n",
      "Episode 36\tAverage Score: 0.19\n",
      "Episode 38\tAverage Score: 0.19\n",
      "Episode 40\tAverage Score: 0.18\n",
      "Episode 42\tAverage Score: 0.17\n",
      "Episode 44\tAverage Score: 0.17\n",
      "Episode 46\tAverage Score: 0.17\n",
      "Episode 48\tAverage Score: 0.17\n",
      "Episode 50\tAverage Score: 0.16\n",
      "Episode 52\tAverage Score: 0.16\n",
      "Episode 54\tAverage Score: 0.15\n",
      "Episode 56\tAverage Score: 0.14\n",
      "Episode 58\tAverage Score: 0.13\n",
      "Episode 60\tAverage Score: 0.13\n",
      "Episode 62\tAverage Score: 0.12\n",
      "Episode 64\tAverage Score: 0.12\n",
      "Episode 66\tAverage Score: 0.14\n",
      "Episode 68\tAverage Score: 0.15\n",
      "Episode 70\tAverage Score: 0.18\n",
      "Episode 72\tAverage Score: 0.22\n",
      "Episode 74\tAverage Score: 0.25\n",
      "Episode 76\tAverage Score: 0.29\n",
      "Episode 78\tAverage Score: 0.34\n",
      "Episode 80\tAverage Score: 0.40\n",
      "Episode 82\tAverage Score: 0.50\n",
      "Episode 84\tAverage Score: 0.58\n",
      "Episode 86\tAverage Score: 0.70\n",
      "Episode 88\tAverage Score: 0.84\n",
      "Episode 90\tAverage Score: 0.98\n",
      "Episode 92\tAverage Score: 1.11\n",
      "Episode 94\tAverage Score: 1.22\n",
      "Episode 96\tAverage Score: 1.33\n",
      "Episode 98\tAverage Score: 1.47\n",
      "Episode 100\tAverage Score: 1.62\n",
      "Episode 102\tAverage Score: 1.77\n",
      "Episode 104\tAverage Score: 1.91\n",
      "Episode 106\tAverage Score: 2.03\n",
      "Episode 108\tAverage Score: 2.16\n",
      "Episode 110\tAverage Score: 2.26\n",
      "Episode 112\tAverage Score: 2.36\n",
      "Episode 114\tAverage Score: 2.46\n",
      "Episode 116\tAverage Score: 2.58\n",
      "Episode 118\tAverage Score: 2.68\n",
      "Episode 120\tAverage Score: 2.74\n",
      "Episode 122\tAverage Score: 2.78\n",
      "Episode 124\tAverage Score: 2.83\n",
      "Episode 126\tAverage Score: 2.83\n",
      "Episode 128\tAverage Score: 2.83\n",
      "Episode 130\tAverage Score: 2.85\n",
      "Episode 132\tAverage Score: 2.84\n",
      "Episode 134\tAverage Score: 2.86\n",
      "Episode 136\tAverage Score: 2.88\n",
      "Episode 138\tAverage Score: 2.87\n",
      "Episode 140\tAverage Score: 2.87\n",
      "Episode 142\tAverage Score: 2.87\n",
      "Episode 144\tAverage Score: 2.89\n",
      "Episode 146\tAverage Score: 2.93\n",
      "Episode 148\tAverage Score: 2.98\n",
      "Episode 150\tAverage Score: 3.00\n",
      "Episode 152\tAverage Score: 3.03\n",
      "Episode 154\tAverage Score: 3.11\n",
      "Episode 156\tAverage Score: 3.13\n",
      "Episode 158\tAverage Score: 3.15\n",
      "Episode 160\tAverage Score: 3.20\n",
      "Episode 162\tAverage Score: 3.22\n",
      "Episode 164\tAverage Score: 3.26\n",
      "Episode 166\tAverage Score: 3.35\n",
      "Episode 168\tAverage Score: 3.43\n",
      "Episode 170\tAverage Score: 3.44\n",
      "Episode 172\tAverage Score: 3.57\n",
      "Episode 174\tAverage Score: 3.63\n",
      "Episode 176\tAverage Score: 3.74\n",
      "Episode 178\tAverage Score: 3.84\n",
      "Episode 180\tAverage Score: 3.97\n",
      "Episode 182\tAverage Score: 4.08\n",
      "Episode 184\tAverage Score: 4.13\n",
      "Episode 186\tAverage Score: 4.20\n",
      "Episode 188\tAverage Score: 4.28\n",
      "Episode 190\tAverage Score: 4.40\n",
      "Episode 192\tAverage Score: 4.48\n",
      "Episode 194\tAverage Score: 4.47\n",
      "Episode 196\tAverage Score: 4.49\n",
      "Episode 198\tAverage Score: 4.54\n",
      "Episode 200\tAverage Score: 4.61\n",
      "Episode 202\tAverage Score: 4.70\n",
      "Episode 204\tAverage Score: 4.71\n",
      "Episode 206\tAverage Score: 4.76\n",
      "Episode 208\tAverage Score: 4.76\n",
      "Episode 210\tAverage Score: 4.86\n",
      "Episode 212\tAverage Score: 4.86\n",
      "Episode 214\tAverage Score: 4.94\n",
      "Episode 216\tAverage Score: 4.93\n",
      "Episode 218\tAverage Score: 5.02\n",
      "Episode 220\tAverage Score: 5.09\n",
      "Episode 222\tAverage Score: 5.15\n",
      "Episode 224\tAverage Score: 5.23\n",
      "Episode 226\tAverage Score: 5.31\n",
      "Episode 228\tAverage Score: 5.25\n",
      "Episode 230\tAverage Score: 5.20\n",
      "Episode 232\tAverage Score: 5.21\n",
      "Episode 234\tAverage Score: 5.27\n",
      "Episode 236\tAverage Score: 5.33\n",
      "Episode 238\tAverage Score: 5.36\n",
      "Episode 240\tAverage Score: 5.42\n",
      "Episode 242\tAverage Score: 5.40\n",
      "Episode 244\tAverage Score: 5.46\n",
      "Episode 246\tAverage Score: 5.48\n",
      "Episode 248\tAverage Score: 5.49\n",
      "Episode 250\tAverage Score: 5.45\n",
      "Episode 252\tAverage Score: 5.43\n",
      "Episode 254\tAverage Score: 5.44\n",
      "Episode 256\tAverage Score: 5.49\n",
      "Episode 258\tAverage Score: 5.47\n",
      "Episode 260\tAverage Score: 5.39\n",
      "Episode 262\tAverage Score: 5.31\n",
      "Episode 264\tAverage Score: 5.24\n",
      "Episode 266\tAverage Score: 5.12\n",
      "Episode 268\tAverage Score: 5.14\n",
      "Episode 270\tAverage Score: 5.23\n",
      "Episode 272\tAverage Score: 5.25\n",
      "Episode 274\tAverage Score: 5.26\n",
      "Episode 276\tAverage Score: 5.29\n",
      "Episode 278\tAverage Score: 5.30\n",
      "Episode 280\tAverage Score: 5.26\n",
      "Episode 282\tAverage Score: 5.28\n",
      "Episode 284\tAverage Score: 5.22\n",
      "Episode 286\tAverage Score: 5.14\n",
      "Episode 288\tAverage Score: 5.09\n",
      "Episode 290\tAverage Score: 5.06\n",
      "Episode 292\tAverage Score: 5.01\n",
      "Episode 294\tAverage Score: 4.94\n",
      "Episode 296\tAverage Score: 4.88\n",
      "Episode 298\tAverage Score: 4.80\n",
      "Episode 300\tAverage Score: 4.77\n"
     ]
    }
   ],
   "source": [
    "# No added noise\n",
    "actor_hidden_layers = [50, 50]\n",
    "critic_hidden_layers = [50, 50]\n",
    "agent3 = Agent(state_size, action_size, num_agents, 0, actor_hidden_layers, critic_hidden_layers, use_batch_norm=True, use_noise=False)\n",
    "scores3 = ddpg_train(agent3, env, brain_name, num_agents, actor_model_pth='actor_model3.pth', critic_model_pth='critic_model3.pth', n_episodes=300)"
   ]
  },
  {
   "cell_type": "code",
   "execution_count": 15,
   "metadata": {},
   "outputs": [],
   "source": [
    "with open('scores3.txt', 'w') as f:\n",
    "    for item in scores3:\n",
    "        f.write(\"%s\\n\" % item)"
   ]
  },
  {
   "cell_type": "code",
   "execution_count": 17,
   "metadata": {},
   "outputs": [
    {
     "name": "stdout",
     "output_type": "stream",
     "text": [
      "Episode 2\tAverage Score: 0.92\n",
      "Episode 4\tAverage Score: 0.86\n",
      "Episode 6\tAverage Score: 0.92\n",
      "Episode 8\tAverage Score: 1.10\n",
      "Episode 10\tAverage Score: 1.25\n",
      "Episode 12\tAverage Score: 1.34\n",
      "Episode 14\tAverage Score: 1.63\n",
      "Episode 16\tAverage Score: 2.02\n",
      "Episode 18\tAverage Score: 2.33\n",
      "Episode 20\tAverage Score: 2.89\n",
      "Episode 22\tAverage Score: 3.65\n",
      "Episode 24\tAverage Score: 5.13\n",
      "Episode 26\tAverage Score: 6.77\n",
      "Episode 28\tAverage Score: 8.45\n",
      "Episode 30\tAverage Score: 10.15\n",
      "Episode 32\tAverage Score: 11.68\n",
      "Episode 34\tAverage Score: 13.10\n",
      "Episode 36\tAverage Score: 14.34\n",
      "Episode 38\tAverage Score: 15.50\n",
      "Episode 40\tAverage Score: 16.57\n",
      "Episode 42\tAverage Score: 18.33\n",
      "Episode 44\tAverage Score: 20.07\n",
      "Episode 46\tAverage Score: 21.86\n",
      "Episode 48\tAverage Score: 23.60\n",
      "Episode 50\tAverage Score: 25.35\n",
      "Episode 52\tAverage Score: 27.07\n",
      "Episode 54\tAverage Score: 28.73\n",
      "Episode 56\tAverage Score: 30.33\n",
      "Episode 58\tAverage Score: 31.89\n",
      "Episode 60\tAverage Score: 33.31\n",
      "Episode 62\tAverage Score: 34.52\n",
      "Episode 64\tAverage Score: 35.24\n",
      "Episode 66\tAverage Score: 35.73\n",
      "Episode 68\tAverage Score: 36.03\n",
      "Episode 70\tAverage Score: 36.18\n",
      "Episode 72\tAverage Score: 36.24\n",
      "Episode 74\tAverage Score: 36.26\n",
      "Episode 76\tAverage Score: 36.30\n",
      "Episode 78\tAverage Score: 36.32\n",
      "Episode 80\tAverage Score: 36.27\n",
      "Episode 82\tAverage Score: 36.26\n",
      "Episode 84\tAverage Score: 36.29\n",
      "Episode 86\tAverage Score: 36.19\n",
      "Episode 88\tAverage Score: 36.14\n",
      "Episode 90\tAverage Score: 36.02\n",
      "Episode 92\tAverage Score: 35.92\n",
      "Episode 94\tAverage Score: 35.86\n",
      "Episode 96\tAverage Score: 35.72\n",
      "Episode 98\tAverage Score: 35.65\n",
      "Episode 100\tAverage Score: 35.62\n",
      "Episode 102\tAverage Score: 35.53\n",
      "Episode 104\tAverage Score: 35.46\n",
      "Episode 106\tAverage Score: 35.40\n",
      "\n",
      "Environment solved in 6 episodes!\tAverage Score: 30.16\n"
     ]
    }
   ],
   "source": [
    "# Bigger network and using batch normalisation and added noise\n",
    "actor_hidden_layers = [100, 200, 100]\n",
    "critic_hidden_layers = [200, 100, 50]\n",
    "agent4 = Agent(state_size, action_size, num_agents, 0, actor_hidden_layers, critic_hidden_layers, use_batch_norm=True, use_noise=True)\n",
    "scores4 = ddpg_train(agent4, env, brain_name, num_agents, actor_model_pth='actor_model4.pth', critic_model_pth='critic_model4.pth', n_episodes=300)"
   ]
  },
  {
   "cell_type": "code",
   "execution_count": 18,
   "metadata": {},
   "outputs": [
    {
     "data": {
      "image/png": "[encoded data removed]",
      "text/plain": [
       "<Figure size 432x288 with 1 Axes>"
      ]
     },
     "metadata": {
      "needs_background": "light"
     },
     "output_type": "display_data"
    }
   ],
   "source": [
    "# plot the scores\n",
    "Scores_plot = plt.figure()\n",
    "ax = Scores_plot.add_subplot(111)\n",
    "plt.plot(np.arange(len(scores4)), scores4)\n",
    "plt.ylabel('Score')\n",
    "plt.xlabel('Episode #')\n",
    "plt.title('Agent 4')\n",
    "\n",
    "#plt.savefig(\"Scores_plot.png\")\n",
    "plt.show()"
   ]
  },
  {
   "cell_type": "code",
   "execution_count": 19,
   "metadata": {},
   "outputs": [],
   "source": [
    "with open('scores4.txt', 'w') as f:\n",
    "    for item in scores4:\n",
    "        f.write(\"%s\\n\" % item)"
   ]
  },
  {
   "cell_type": "markdown",
   "metadata": {},
   "source": [
    "### Initialising agent from saved weights and evaluating performance\n",
    "Run the cell block below to load the pre-trained weights into the model."
   ]
  },
  {
   "cell_type": "code",
   "execution_count": 16,
   "metadata": {},
   "outputs": [
    {
     "name": "stdout",
     "output_type": "stream",
     "text": [
      "Mean Score (for all agents): 37.21099916826934\n",
      "Score for individual agents:\n",
      "[39.38999912 39.31999912 38.87999913 39.37999912 24.80999945 38.74999913\n",
      " 33.77999924 36.32999919 39.44999912 39.21999912 34.70999922 39.45999912\n",
      " 36.08999919 39.29999912 35.8599992  35.9099992  39.46999912 35.04999922\n",
      " 39.58999912 39.46999912]\n"
     ]
    }
   ],
   "source": [
    "# Agent initialised without added noise\n",
    "actor_hidden_layers = [50, 50]\n",
    "critic_hidden_layers = [50, 50]\n",
    "agent_show = Agent(state_size, action_size, num_agents, 0, actor_hidden_layers, critic_hidden_layers, use_batch_norm=True)\n",
    "ddpg_show(agent_show, env, brain_name, num_agents, 'results/actor_model1.pth', 'results/critic_model1.pth')"
   ]
  },
  {
   "cell_type": "code",
   "execution_count": null,
   "metadata": {},
   "outputs": [],
   "source": []
  }
 ],
 "metadata": {
  "kernelspec": {
   "display_name": "drlnd",
   "language": "python",
   "name": "drlnd"
  },
  "language_info": {
   "codemirror_mode": {
    "name": "ipython",
    "version": 3
   },
   "file_extension": ".py",
   "mimetype": "text/x-python",
   "name": "python",
   "nbconvert_exporter": "python",
   "pygments_lexer": "ipython3",
   "version": "3.6.9"
  }
 },
 "nbformat": 4,
 "nbformat_minor": 2
}
