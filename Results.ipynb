{
 "cells": [
  {
   "cell_type": "markdown",
   "metadata": {},
   "source": [
    "# Imports"
   ]
  },
  {
   "cell_type": "code",
   "execution_count": 9,
   "metadata": {},
   "outputs": [],
   "source": [
    "from unityagents import UnityEnvironment\n",
    "import numpy as np\n",
    "from collections import deque\n",
    "import matplotlib.pyplot as plt\n",
    "\n",
    "plt.ion() # Turn on interactive mode on plots\n",
    "\n",
    "# PyTorch imports\n",
    "import torch"
   ]
  },
  {
   "cell_type": "markdown",
   "metadata": {},
   "source": [
    "# Starting the environment\n",
    "\n",
    "Next, we will start the environment!  **_Before running the code cell below_**, change the `file_name` parameter to match the location of the Unity environment that you downloaded.\n",
    "\n",
    "- **Mac**: `\"path/to/Reacher.app\"`\n",
    "- **Windows** (x86): `\"path/to/Reacher_Windows_x86/Reacher.exe\"`\n",
    "- **Windows** (x86_64): `\"path/to/Reacher_Windows_x86_64/Reacher.exe\"`\n",
    "- **Linux** (x86): `\"path/to/Reacher_Linux/Reacher.x86\"`\n",
    "- **Linux** (x86_64): `\"path/to/Reacher_Linux/Reacher.x86_64\"`\n",
    "- **Linux** (x86, headless): `\"path/to/Reacher_Linux_NoVis/Reacher.x86\"`\n",
    "- **Linux** (x86_64, headless): `\"path/to/Reacher_Linux_NoVis/Reacher.x86_64\"`\n",
    "\n",
    "For instance, if you are using a Mac, then you downloaded `Reacher.app`.  If this file is in the same folder as the notebook, then the line below should appear as follows:\n",
    "```\n",
    "env = UnityEnvironment(file_name=\"Reacher.app\")\n",
    "```"
   ]
  },
  {
   "cell_type": "code",
   "execution_count": 2,
   "metadata": {},
   "outputs": [
    {
     "name": "stderr",
     "output_type": "stream",
     "text": [
      "INFO:unityagents:\n",
      "'Academy' started successfully!\n",
      "Unity Academy name: Academy\n",
      "        Number of Brains: 1\n",
      "        Number of External Brains : 1\n",
      "        Lesson number : 0\n",
      "        Reset Parameters :\n",
      "\t\tgoal_speed -> 1.0\n",
      "\t\tgoal_size -> 5.0\n",
      "Unity brain name: ReacherBrain\n",
      "        Number of Visual Observations (per agent): 0\n",
      "        Vector Observation space type: continuous\n",
      "        Vector Observation space size (per agent): 33\n",
      "        Number of stacked Vector Observation: 1\n",
      "        Vector Action space type: continuous\n",
      "        Vector Action space size (per agent): 4\n",
      "        Vector Action descriptions: , , , \n"
     ]
    }
   ],
   "source": [
    "env = UnityEnvironment(file_name='C:/Users/chris/git/deep-reinforcement-learning/p2_continuous-control/Reacher_Windows_x86_64/Reacher_Windows_x86_64/Reacher.exe')"
   ]
  },
  {
   "cell_type": "markdown",
   "metadata": {},
   "source": [
    "# Environment Setup"
   ]
  },
  {
   "cell_type": "code",
   "execution_count": 3,
   "metadata": {},
   "outputs": [],
   "source": [
    "# get the default brain\n",
    "brain_name = env.brain_names[0]\n",
    "brain = env.brains[brain_name]\n",
    "\n",
    "# reset the environment\n",
    "env_info = env.reset(train_mode=False)[brain_name]\n",
    "\n",
    "# number of agents\n",
    "num_agents = len(env_info.agents)\n",
    "#print('Number of agents:', num_agents)\n",
    "\n",
    "# size of each action\n",
    "action_size = brain.vector_action_space_size\n",
    "#print('Size of each action:', action_size)\n",
    "\n",
    "# examine the state space \n",
    "states = env_info.vector_observations\n",
    "state_size = states.shape[1]\n",
    "#print('There are {} agents. Each observes a state with length: {}'.format(states.shape[0], state_size))\n",
    "#print('The state for the first agent looks like:', states[0])"
   ]
  },
  {
   "cell_type": "markdown",
   "metadata": {},
   "source": [
    "# Agent Setup"
   ]
  },
  {
   "cell_type": "code",
   "execution_count": 4,
   "metadata": {},
   "outputs": [],
   "source": [
    "# Auto load changes in the imported files\n",
    "%load_ext autoreload\n",
    "%autoreload 2"
   ]
  },
  {
   "cell_type": "code",
   "execution_count": 5,
   "metadata": {},
   "outputs": [],
   "source": [
    "from agent import Agent"
   ]
  },
  {
   "cell_type": "code",
   "execution_count": 6,
   "metadata": {},
   "outputs": [],
   "source": [
    "actor_hidden_layers = [50, 50]\n",
    "critic_hidden_layers = [50, 50]\n",
    "agent1 = Agent(state_size, action_size, num_agents, 0, actor_hidden_layers, critic_hidden_layers, use_batch_norm=True, use_noise=True)"
   ]
  },
  {
   "cell_type": "markdown",
   "metadata": {},
   "source": [
    "# Train the agent"
   ]
  },
  {
   "cell_type": "code",
   "execution_count": 7,
   "metadata": {},
   "outputs": [],
   "source": [
    "def ddpg(agent, num_agents, n_episodes=1000, max_steps=1000):\n",
    "    scores = []\n",
    "    \n",
    "    scores_window_100 = deque(maxlen=100)\n",
    "    scores_window_40 = deque(maxlen=40)\n",
    "    \n",
    "    for episode in range(1, n_episodes+1):\n",
    "        \n",
    "        env_info = env.reset(train_mode=True)[brain_name]\n",
    "        states = env_info.vector_observations\n",
    "        score = np.zeros(num_agents)\n",
    "        agent.reset()\n",
    "        \n",
    "        for t in range(max_steps):\n",
    "            actions = agent.act(states)\n",
    "            env_info = env.step(actions)[brain_name]\n",
    "            next_states = env_info.vector_observations\n",
    "            rewards = env_info.rewards\n",
    "            dones = env_info.local_done\n",
    "            score += rewards\n",
    "            agent.step(states, actions, rewards, next_states, dones)\n",
    "\n",
    "            \n",
    "            states = next_states\n",
    "            if np.any(dones):\n",
    "                break\n",
    "                \n",
    "        scores_window_100.append(np.mean(score))\n",
    "        scores_window_40.append(score)\n",
    "        scores.append(np.mean(score))        \n",
    "                \n",
    "        if episode % (40 / 20) == 0:\n",
    "            print('\\rEpisode {}\\tAverage Score: {:.2f}'.format(episode, np.mean(scores_window_40)))\n",
    "        \n",
    "        if np.mean(scores_window_100)>=30.0:\n",
    "            # Agent has reached target average score. Ending training\n",
    "            print('\\nEnvironment solved in {:d} episodes!\\tAverage Score: {:.2f}'.format(episode-100, np.mean(scores_window_100)))\n",
    "            torch.save(agent.actor_local.state_dict(), 'actor_model2.pth')\n",
    "            torch.save(agent.critic_local.state_dict(), 'critic_model2.pth')\n",
    "            break\n",
    "            \n",
    "    return scores"
   ]
  },
  {
   "cell_type": "code",
   "execution_count": 8,
   "metadata": {},
   "outputs": [
    {
     "name": "stdout",
     "output_type": "stream",
     "text": [
      "Episode 2\tAverage Score: 0.95\n",
      "Episode 4\tAverage Score: 0.77\n",
      "Episode 6\tAverage Score: 0.72\n",
      "Episode 8\tAverage Score: 0.71\n",
      "Episode 10\tAverage Score: 0.67\n",
      "Episode 12\tAverage Score: 0.62\n",
      "Episode 14\tAverage Score: 0.56\n",
      "Episode 16\tAverage Score: 0.58\n",
      "Episode 18\tAverage Score: 0.66\n",
      "Episode 20\tAverage Score: 0.75\n",
      "Episode 22\tAverage Score: 0.87\n",
      "Episode 24\tAverage Score: 0.95\n",
      "Episode 26\tAverage Score: 0.98\n",
      "Episode 28\tAverage Score: 1.04\n",
      "Episode 30\tAverage Score: 1.08\n",
      "Episode 32\tAverage Score: 1.14\n",
      "Episode 34\tAverage Score: 1.21\n",
      "Episode 36\tAverage Score: 1.34\n",
      "Episode 38\tAverage Score: 1.53\n",
      "Episode 40\tAverage Score: 1.72\n",
      "Episode 42\tAverage Score: 1.96\n",
      "Episode 44\tAverage Score: 2.25\n",
      "Episode 46\tAverage Score: 2.59\n",
      "Episode 48\tAverage Score: 2.96\n",
      "Episode 50\tAverage Score: 3.45\n",
      "Episode 52\tAverage Score: 4.00\n",
      "Episode 54\tAverage Score: 4.69\n",
      "Episode 56\tAverage Score: 5.41\n",
      "Episode 58\tAverage Score: 6.13\n",
      "Episode 60\tAverage Score: 6.89\n",
      "Episode 62\tAverage Score: 7.74\n",
      "Episode 64\tAverage Score: 8.70\n",
      "Episode 66\tAverage Score: 9.68\n",
      "Episode 68\tAverage Score: 10.71\n",
      "Episode 70\tAverage Score: 11.77\n",
      "Episode 72\tAverage Score: 13.06\n",
      "Episode 74\tAverage Score: 14.33\n",
      "Episode 76\tAverage Score: 15.57\n",
      "Episode 78\tAverage Score: 16.88\n",
      "Episode 80\tAverage Score: 18.23\n",
      "Episode 82\tAverage Score: 19.60\n",
      "Episode 84\tAverage Score: 21.01\n",
      "Episode 86\tAverage Score: 22.40\n",
      "Episode 88\tAverage Score: 23.80\n",
      "Episode 90\tAverage Score: 25.05\n",
      "Episode 92\tAverage Score: 26.28\n",
      "Episode 94\tAverage Score: 27.31\n",
      "Episode 96\tAverage Score: 28.38\n",
      "Episode 98\tAverage Score: 29.37\n",
      "Episode 100\tAverage Score: 30.30\n",
      "Episode 102\tAverage Score: 31.15\n",
      "Episode 104\tAverage Score: 31.88\n",
      "Episode 106\tAverage Score: 32.59\n",
      "Episode 108\tAverage Score: 33.24\n",
      "Episode 110\tAverage Score: 33.86\n",
      "Episode 112\tAverage Score: 34.20\n",
      "Episode 114\tAverage Score: 34.57\n",
      "Episode 116\tAverage Score: 34.90\n",
      "Episode 118\tAverage Score: 35.16\n",
      "Episode 120\tAverage Score: 35.26\n",
      "Episode 122\tAverage Score: 35.27\n",
      "Episode 124\tAverage Score: 35.21\n",
      "Episode 126\tAverage Score: 35.17\n",
      "Episode 128\tAverage Score: 35.18\n",
      "Episode 130\tAverage Score: 35.18\n",
      "Episode 132\tAverage Score: 35.11\n",
      "Episode 134\tAverage Score: 35.14\n",
      "Episode 136\tAverage Score: 35.07\n",
      "Episode 138\tAverage Score: 34.99\n",
      "Episode 140\tAverage Score: 34.93\n",
      "Episode 142\tAverage Score: 34.90\n",
      "Episode 144\tAverage Score: 34.83\n",
      "Episode 146\tAverage Score: 34.75\n",
      "\n",
      "Environment solved in 47 episodes!\tAverage Score: 30.26\n"
     ]
    }
   ],
   "source": [
    "scores1 = ddpg(agent1, num_agents)"
   ]
  },
  {
   "cell_type": "code",
   "execution_count": 11,
   "metadata": {},
   "outputs": [
    {
     "data": {
      "image/png": "[encoded data removed]",
      "text/plain": [
       "<Figure size 432x288 with 1 Axes>"
      ]
     },
     "metadata": {
      "needs_background": "light"
     },
     "output_type": "display_data"
    }
   ],
   "source": [
    "# plot the scores\n",
    "Scores_plot = plt.figure()\n",
    "ax = Scores_plot.add_subplot(111)\n",
    "plt.plot(np.arange(len(scores1)), scores1)\n",
    "plt.ylabel('Score')\n",
    "plt.xlabel('Episode #')\n",
    "\n",
    "#plt.savefig(\"Scores_plot.png\")\n",
    "plt.show()"
   ]
  },
  {
   "cell_type": "code",
   "execution_count": 12,
   "metadata": {},
   "outputs": [],
   "source": [
    "with open('scores1.txt', 'w') as f:\n",
    "    for item in scores1:\n",
    "        f.write(\"%s\\n\" % item)"
   ]
  },
  {
   "cell_type": "code",
   "execution_count": 30,
   "metadata": {},
   "outputs": [],
   "source": [
    "#torch.save(agent1.actor_local.state_dict(), 'actor_model.pth')\n",
    "#torch.save(agent1.critic_local.state_dict(), 'critic_model.pth')"
   ]
  },
  {
   "cell_type": "code",
   "execution_count": 33,
   "metadata": {},
   "outputs": [
    {
     "name": "stdout",
     "output_type": "stream",
     "text": [
      "Score: 34.5349992280826\n",
      "Score vector\n",
      "[35.11999922 36.82999918 35.8599992  34.47999923 32.18999928 31.5199993\n",
      " 34.06999924 37.76999916 34.37999923 28.79999936 36.83999918 38.69999913\n",
      " 35.08999922 32.53999927 37.96999915 37.59999916 34.28999923 34.46999923\n",
      " 27.06999939 35.10999922]\n"
     ]
    }
   ],
   "source": [
    "env_info = env.reset(train_mode=False)[brain_name] # reset the environment\n",
    "states = env_info.vector_observations            # get the current state\n",
    "score = np.zeros(num_agents)                                      # initialize the score\n",
    "while True:\n",
    "    actions = agent1.act(states)                   # select an action\n",
    "    env_info = env.step(actions)[brain_name]        # send the action to the environment\n",
    "    next_states = env_info.vector_observations   # get the next state\n",
    "    rewards = env_info.rewards                  # get the reward\n",
    "    dones = env_info.local_done                  # see if episode has finished\n",
    "    score += rewards                                # update the score\n",
    "    states = next_states                             # roll over the state to next time step\n",
    "    if np.any(dones):                                       # exit loop if episode finished\n",
    "        break\n",
    "    \n",
    "print(\"Score: {}\".format(np.mean(score)))\n",
    "print(\"Score vector\")\n",
    "print(score)\n",
    "      "
   ]
  },
  {
   "cell_type": "code",
   "execution_count": null,
   "metadata": {},
   "outputs": [
    {
     "name": "stdout",
     "output_type": "stream",
     "text": [
      "Episode 2\tAverage Score: 0.04\n",
      "Episode 4\tAverage Score: 0.45\n",
      "Episode 6\tAverage Score: 0.48\n",
      "Episode 8\tAverage Score: 0.47\n",
      "Episode 10\tAverage Score: 0.44\n",
      "Episode 12\tAverage Score: 0.42\n",
      "Episode 14\tAverage Score: 0.42\n",
      "Episode 16\tAverage Score: 0.39\n",
      "Episode 18\tAverage Score: 0.38\n",
      "Episode 20\tAverage Score: 0.37\n",
      "Episode 22\tAverage Score: 0.38\n",
      "Episode 24\tAverage Score: 0.40\n",
      "Episode 26\tAverage Score: 0.44\n",
      "Episode 28\tAverage Score: 0.48\n",
      "Episode 30\tAverage Score: 0.52\n",
      "Episode 32\tAverage Score: 0.53\n",
      "Episode 34\tAverage Score: 0.56\n",
      "Episode 36\tAverage Score: 0.58\n",
      "Episode 38\tAverage Score: 0.61\n",
      "Episode 40\tAverage Score: 0.61\n",
      "Episode 42\tAverage Score: 0.66\n",
      "Episode 44\tAverage Score: 0.67\n",
      "Episode 46\tAverage Score: 0.70\n",
      "Episode 48\tAverage Score: 0.72\n",
      "Episode 50\tAverage Score: 0.75\n",
      "Episode 52\tAverage Score: 0.77\n",
      "Episode 54\tAverage Score: 0.80\n",
      "Episode 56\tAverage Score: 0.85\n",
      "Episode 58\tAverage Score: 0.89\n",
      "Episode 60\tAverage Score: 0.93\n",
      "Episode 62\tAverage Score: 0.95\n",
      "Episode 64\tAverage Score: 0.99\n",
      "Episode 66\tAverage Score: 0.99\n",
      "Episode 68\tAverage Score: 1.00\n",
      "Episode 70\tAverage Score: 1.01\n",
      "Episode 72\tAverage Score: 1.03\n",
      "Episode 74\tAverage Score: 1.04\n",
      "Episode 76\tAverage Score: 1.05\n",
      "Episode 78\tAverage Score: 1.06\n",
      "Episode 80\tAverage Score: 1.08\n",
      "Episode 82\tAverage Score: 1.09\n",
      "Episode 84\tAverage Score: 1.10\n",
      "Episode 86\tAverage Score: 1.11\n",
      "Episode 88\tAverage Score: 1.12\n",
      "Episode 90\tAverage Score: 1.13\n",
      "Episode 92\tAverage Score: 1.16\n",
      "Episode 94\tAverage Score: 1.16\n",
      "Episode 96\tAverage Score: 1.16\n",
      "Episode 98\tAverage Score: 1.17\n",
      "Episode 100\tAverage Score: 1.18\n",
      "Episode 102\tAverage Score: 1.19\n",
      "Episode 104\tAverage Score: 1.19\n",
      "Episode 106\tAverage Score: 1.21\n",
      "Episode 108\tAverage Score: 1.20\n",
      "Episode 110\tAverage Score: 1.19\n",
      "Episode 112\tAverage Score: 1.19\n",
      "Episode 114\tAverage Score: 1.17\n",
      "Episode 116\tAverage Score: 1.17\n",
      "Episode 118\tAverage Score: 1.18\n",
      "Episode 120\tAverage Score: 1.18\n",
      "Episode 122\tAverage Score: 1.18\n",
      "Episode 124\tAverage Score: 1.17\n",
      "Episode 126\tAverage Score: 1.18\n",
      "Episode 128\tAverage Score: 1.18\n",
      "Episode 130\tAverage Score: 1.17\n",
      "Episode 132\tAverage Score: 1.16\n",
      "Episode 134\tAverage Score: 1.15\n",
      "Episode 136\tAverage Score: 1.15\n",
      "Episode 138\tAverage Score: 1.13\n",
      "Episode 140\tAverage Score: 1.12\n",
      "Episode 142\tAverage Score: 1.11\n",
      "Episode 144\tAverage Score: 1.11\n",
      "Episode 146\tAverage Score: 1.11\n",
      "Episode 148\tAverage Score: 1.11\n",
      "Episode 150\tAverage Score: 1.12\n",
      "Episode 152\tAverage Score: 1.11\n",
      "Episode 154\tAverage Score: 1.12\n",
      "Episode 156\tAverage Score: 1.11\n",
      "Episode 158\tAverage Score: 1.09\n",
      "Episode 160\tAverage Score: 1.09\n",
      "Episode 162\tAverage Score: 1.09\n",
      "Episode 164\tAverage Score: 1.09\n",
      "Episode 166\tAverage Score: 1.09\n",
      "Episode 168\tAverage Score: 1.09\n",
      "Episode 170\tAverage Score: 1.09\n",
      "Episode 172\tAverage Score: 1.11\n",
      "Episode 174\tAverage Score: 1.12\n",
      "Episode 176\tAverage Score: 1.13\n",
      "Episode 178\tAverage Score: 1.16\n",
      "Episode 180\tAverage Score: 1.16\n",
      "Episode 182\tAverage Score: 1.17\n",
      "Episode 184\tAverage Score: 1.17\n",
      "Episode 186\tAverage Score: 1.17\n",
      "Episode 188\tAverage Score: 1.17\n",
      "Episode 190\tAverage Score: 1.17\n",
      "Episode 192\tAverage Score: 1.17\n",
      "Episode 194\tAverage Score: 1.18\n",
      "Episode 196\tAverage Score: 1.19\n",
      "Episode 198\tAverage Score: 1.20\n",
      "Episode 200\tAverage Score: 1.19\n",
      "Episode 202\tAverage Score: 1.20\n",
      "Episode 204\tAverage Score: 1.20\n",
      "Episode 206\tAverage Score: 1.20\n",
      "Episode 208\tAverage Score: 1.19\n",
      "Episode 210\tAverage Score: 1.20\n",
      "Episode 212\tAverage Score: 1.19\n"
     ]
    }
   ],
   "source": [
    "agent2 = Agent(state_size, action_size, num_agents, 0, actor_hidden_layers, critic_hidden_layers, use_batch_norm=False, use_noise=False)\n",
    "scores2 = ddpg(agent2, num_agents)"
   ]
  },
  {
   "cell_type": "markdown",
   "metadata": {},
   "source": [
    "### Initialising agent from saved weights\n",
    "Run the cell block below to load the pre-trained weights into the model."
   ]
  },
  {
   "cell_type": "code",
   "execution_count": 15,
   "metadata": {},
   "outputs": [
    {
     "data": {
      "text/plain": [
       "Critic(\n",
       "  (hidden_layers): ModuleList(\n",
       "    (0): Linear(in_features=33, out_features=50, bias=True)\n",
       "    (1): Linear(in_features=54, out_features=50, bias=True)\n",
       "  )\n",
       "  (output): Linear(in_features=50, out_features=1, bias=True)\n",
       ")"
      ]
     },
     "execution_count": 15,
     "metadata": {},
     "output_type": "execute_result"
    }
   ],
   "source": [
    "actor_hidden_layers = [50, 50]\n",
    "critic_hidden_layers = [50, 50]\n",
    "agent_show = Agent(state_size, action_size, num_agents, 0, actor_hidden_layers, critic_hidden_layers, use_batch_norm=True)\n",
    "agent_show.actor_local.load_state_dict(torch.load('actor_model.pth'))\n",
    "agent_show.actor_local.eval()\n",
    "agent_show.critic_local.load_state_dict(torch.load('critic_model.pth'))\n",
    "agent_show.critic_local.eval()"
   ]
  },
  {
   "cell_type": "code",
   "execution_count": 16,
   "metadata": {},
   "outputs": [
    {
     "name": "stdout",
     "output_type": "stream",
     "text": [
      "Score: 38.730499134305866\n",
      "Score vector\n",
      "[37.77999916 39.40999912 39.30999912 39.42999912 39.39999912 39.37999912\n",
      " 39.17999912 39.48999912 38.35999914 38.27999914 39.51999912 38.77999913\n",
      " 38.62999914 37.20999917 38.36999914 35.44999921 39.51999912 38.04999915\n",
      " 39.67999911 39.37999912]\n"
     ]
    }
   ],
   "source": [
    "env_info = env.reset(train_mode=False)[brain_name] # reset the environment\n",
    "states = env_info.vector_observations            # get the current state\n",
    "score = np.zeros(num_agents)                                      # initialize the score\n",
    "while True:\n",
    "    actions = agent_show.act(states)                   # select an action\n",
    "    env_info = env.step(actions)[brain_name]        # send the action to the environment\n",
    "    next_states = env_info.vector_observations   # get the next state\n",
    "    rewards = env_info.rewards                  # get the reward\n",
    "    dones = env_info.local_done                  # see if episode has finished\n",
    "    score += rewards                                # update the score\n",
    "    states = next_states                             # roll over the state to next time step\n",
    "    if np.any(dones):                                       # exit loop if episode finished\n",
    "        break\n",
    "    \n",
    "print(\"Score: {}\".format(np.mean(score)))\n",
    "print(\"Score vector\")\n",
    "print(score)"
   ]
  },
  {
   "cell_type": "code",
   "execution_count": null,
   "metadata": {},
   "outputs": [],
   "source": []
  }
 ],
 "metadata": {
  "kernelspec": {
   "display_name": "drlnd",
   "language": "python",
   "name": "drlnd"
  },
  "language_info": {
   "codemirror_mode": {
    "name": "ipython",
    "version": 3
   },
   "file_extension": ".py",
   "mimetype": "text/x-python",
   "name": "python",
   "nbconvert_exporter": "python",
   "pygments_lexer": "ipython3",
   "version": "3.6.9"
  }
 },
 "nbformat": 4,
 "nbformat_minor": 2
}
